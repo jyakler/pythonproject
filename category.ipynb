{
 "cells": [
  {
   "cell_type": "code",
   "execution_count": 1,
   "id": "a54f5791-7fd8-4fd2-b2a5-e44907dad768",
   "metadata": {},
   "outputs": [],
   "source": [
    "import pandas as pd\n"
   ]
  },
  {
   "cell_type": "code",
   "execution_count": 2,
   "id": "05536159-c5e0-436c-b186-3612c018b49f",
   "metadata": {},
   "outputs": [],
   "source": [
    "data=pd.read_csv('data/업종별성별카드이용정보.csv')\n",
    "# display(data)\n",
    "\n",
    "d1=data\n",
    "d1['년도']=d1['연월'].astype('str').str[0:4]\n",
    "\n",
    "# display(d1)\n",
    "\n",
    "d2=d1.groupby(['년도','업종명']).sum()\n",
    "\n",
    "d3=d1.groupby(['년도','업종명','성별']).sum()\n",
    "# display(d3)\n",
    "\n",
    "d4=d3.reset_index(level='년도')\n",
    "# display(d4)\n",
    "\n",
    "d4.reset_index(inplace=True)\n",
    "\n",
    "d5=d4.pivot(['업종명','성별'],'년도',['이용자수','이용건수','이용금액'])\n",
    "d5=d5.swaplevel(axis=1)\n",
    "d5=d5.sort_values(axis=1,by='년도')\n",
    "d5.to_csv('성별별년도별이용뭐시깽이.csv',encoding='utf-8')"
   ]
  },
  {
   "cell_type": "code",
   "execution_count": 53,
   "id": "5c2cee16-dd07-4ca6-8050-4403cc830cb1",
   "metadata": {},
   "outputs": [
    {
     "data": {
      "text/plain": [
       "array(['건강보조식품 소매업', '골프장 운영업', '과실 및 채소 소매업', '관광 민예품 및 선물용품 소매업',\n",
       "       '그외 기타 분류안된 오락관련 서비스업', '그외 기타 스포츠시설 운영업', '그외 기타 종합 소매업',\n",
       "       '기타 갬블링 및 베팅업', '기타 대형 종합 소매업', '기타 수상오락 서비스업', '기타 외국식 음식점업',\n",
       "       '기타 주점업', '기타음식료품위주종합소매업', '내항 여객 운송업', '마사지업', '면세점', '버스 운송업',\n",
       "       '비알콜 음료점업', '빵 및 과자류 소매업', '서양식 음식점업', '수산물 소매업', '슈퍼마켓',\n",
       "       '스포츠 및 레크레이션 용품 임대업', '여관업', '여행사업', '욕탕업', '육류 소매업', '일반유흥 주점업',\n",
       "       '일식 음식점업', '자동차 임대업', '전시 및 행사 대행업', '정기 항공 운송업', '중식 음식점업',\n",
       "       '차량용 가스 충전업', '차량용 주유소 운영업', '체인화 편의점', '피자, 햄버거, 샌드위치 및 유사 음식점업',\n",
       "       '한식 음식점업', '호텔업', '화장품 및 방향제 소매업', '휴양콘도 운영업', '택시 운송업'],\n",
       "      dtype=object)"
      ]
     },
     "execution_count": 53,
     "metadata": {},
     "output_type": "execute_result"
    }
   ],
   "source": [
    "d1['업종명'].unique()"
   ]
  },
  {
   "cell_type": "code",
   "execution_count": 11,
   "id": "1ea9cd0e-e6b0-451b-9442-99e334e7d086",
   "metadata": {},
   "outputs": [],
   "source": [
    "d2.reset_index(inplace=True)\n",
    "display(d2)\n",
    "\n",
    "test=d2.pivot('업종명','년도',['이용자수','이용건수','이용금액'])\n",
    "display(test)\n",
    "\n",
    "test2=test.swaplevel(axis=1)\n",
    "test2=test2.sort_values(axis=1,by='년도')\n",
    "display(test2)\n",
    "\n",
    "test2.to_csv('년도별이용뭐시깽이.csv',encoding='utf-8')"
   ]
  },
  {
   "cell_type": "code",
   "execution_count": null,
   "id": "68efbfd0-12a1-4f5d-8023-b892f4e7f5ca",
   "metadata": {},
   "outputs": [],
   "source": []
  }
 ],
 "metadata": {
  "kernelspec": {
   "display_name": "pydatavenv",
   "language": "python",
   "name": "pydatavenv"
  },
  "language_info": {
   "codemirror_mode": {
    "name": "ipython",
    "version": 3
   },
   "file_extension": ".py",
   "mimetype": "text/x-python",
   "name": "python",
   "nbconvert_exporter": "python",
   "pygments_lexer": "ipython3",
   "version": "3.9.12"
  }
 },
 "nbformat": 4,
 "nbformat_minor": 5
}
